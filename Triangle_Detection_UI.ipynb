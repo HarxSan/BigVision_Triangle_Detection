{
  "nbformat": 4,
  "nbformat_minor": 0,
  "metadata": {
    "colab": {
      "provenance": [],
      "authorship_tag": "ABX9TyOubIl3yYbaQQrsjfLqGO1y",
      "include_colab_link": true
    },
    "kernelspec": {
      "name": "python3",
      "display_name": "Python 3"
    },
    "language_info": {
      "name": "python"
    }
  },
  "cells": [
    {
      "cell_type": "markdown",
      "metadata": {
        "id": "view-in-github",
        "colab_type": "text"
      },
      "source": [
        "<a href=\"https://colab.research.google.com/github/HarxSan/BigVision_Triangle_Detection/blob/main/Triangle_Detection_UI.ipynb\" target=\"_parent\"><img src=\"https://colab.research.google.com/assets/colab-badge.svg\" alt=\"Open In Colab\"/></a>"
      ]
    },
    {
      "cell_type": "code",
      "source": [
        "!pip install gradio\n",
        "!pip install ultralytics"
      ],
      "metadata": {
        "id": "ukgknKIM9uQQ"
      },
      "execution_count": null,
      "outputs": []
    },
    {
      "cell_type": "code",
      "source": [
        "import gradio as gr\n",
        "import torch\n",
        "import cv2\n",
        "from ultralytics import YOLO\n",
        "import numpy as np\n",
        "from PIL import Image\n",
        "\n",
        "# Load the YOLOv8 model\n",
        "!wget -O best.pt \"https://drive.google.com/uc?export=download&id=1YU2gBcO68Ac6OYJ5n9TSatNINqbqLWH9\"\n",
        "model = YOLO('best.pt')\n",
        "model.eval()\n",
        "\n",
        "def predict_image(image):\n",
        "    \"\"\"Function to run the model on an image and render the results\"\"\"\n",
        "    image = np.array(image)\n",
        "    results = model(image)\n",
        "\n",
        "    boxes = results[0].boxes.xyxy\n",
        "    scores = results[0].boxes.conf\n",
        "    labels = results[0].boxes.cls\n",
        "\n",
        "    output_image = image.copy()\n",
        "\n",
        "    for box, score, label in zip(boxes, scores, labels):\n",
        "        x1, y1, x2, y2 = map(int, box)\n",
        "        color = (0, 255, 0)\n",
        "        thickness = 2\n",
        "\n",
        "        cv2.rectangle(output_image, (x1, y1), (x2, y2), color, thickness)\n",
        "\n",
        "        label_text = f\"Triangle {score:.2f}\"\n",
        "        cv2.putText(output_image, label_text, (x1, y1 - 10), cv2.FONT_HERSHEY_SIMPLEX, 0.5, color, 2)\n",
        "\n",
        "    output_image_rgb = cv2.cvtColor(output_image, cv2.COLOR_BGR2RGB)\n",
        "\n",
        "    num_triangles = len(boxes)\n",
        "    return Image.fromarray(output_image_rgb), f\"Detected {num_triangles} triangles!\"\n",
        "\n",
        "\n",
        "interface = gr.Interface(\n",
        "    fn=predict_image,\n",
        "    inputs=gr.Image(type=\"pil\", label=\"Upload an image\"),\n",
        "    outputs=[gr.Image(label=\"Detection Result\"), gr.Textbox(label=\"Detection Info\")],\n",
        "    live=True,\n",
        "    title=\"Triangle Detection\",\n",
        "    description=\"Upload an image, and the model will detect triangles in it.\",\n",
        ")"
      ],
      "metadata": {
        "id": "SKP1SkMz749G",
        "colab": {
          "base_uri": "https://localhost:8080/"
        },
        "outputId": "2b08f06e-f5bb-43d8-b234-6d6abbccd677"
      },
      "execution_count": 2,
      "outputs": [
        {
          "output_type": "stream",
          "name": "stdout",
          "text": [
            "Creating new Ultralytics Settings v0.0.6 file ✅ \n",
            "View Ultralytics Settings with 'yolo settings' or at '/root/.config/Ultralytics/settings.json'\n",
            "Update Settings with 'yolo settings key=value', i.e. 'yolo settings runs_dir=path/to/dir'. For help see https://docs.ultralytics.com/quickstart/#ultralytics-settings.\n",
            "--2025-04-28 13:18:28--  https://drive.google.com/uc?export=download&id=1YU2gBcO68Ac6OYJ5n9TSatNINqbqLWH9\n",
            "Resolving drive.google.com (drive.google.com)... 74.125.143.101, 74.125.143.113, 74.125.143.138, ...\n",
            "Connecting to drive.google.com (drive.google.com)|74.125.143.101|:443... connected.\n",
            "HTTP request sent, awaiting response... 303 See Other\n",
            "Location: https://drive.usercontent.google.com/download?id=1YU2gBcO68Ac6OYJ5n9TSatNINqbqLWH9&export=download [following]\n",
            "--2025-04-28 13:18:29--  https://drive.usercontent.google.com/download?id=1YU2gBcO68Ac6OYJ5n9TSatNINqbqLWH9&export=download\n",
            "Resolving drive.usercontent.google.com (drive.usercontent.google.com)... 74.125.128.132, 2a00:1450:4013:c02::84\n",
            "Connecting to drive.usercontent.google.com (drive.usercontent.google.com)|74.125.128.132|:443... connected.\n",
            "HTTP request sent, awaiting response... 200 OK\n",
            "Length: 6255331 (6.0M) [application/octet-stream]\n",
            "Saving to: ‘best.pt’\n",
            "\n",
            "best.pt             100%[===================>]   5.96M  31.5MB/s    in 0.2s    \n",
            "\n",
            "2025-04-28 13:18:33 (31.5 MB/s) - ‘best.pt’ saved [6255331/6255331]\n",
            "\n"
          ]
        }
      ]
    },
    {
      "cell_type": "code",
      "source": [
        "interface.launch(share=True)"
      ],
      "metadata": {
        "id": "I06FUIOh9s60",
        "colab": {
          "base_uri": "https://localhost:8080/",
          "height": 646
        },
        "outputId": "fa05feb5-fa3c-4f1a-8d99-1d683ef4f925"
      },
      "execution_count": 4,
      "outputs": [
        {
          "output_type": "stream",
          "name": "stdout",
          "text": [
            "Rerunning server... use `close()` to stop if you need to change `launch()` parameters.\n",
            "----\n",
            "Colab notebook detected. To show errors in colab notebook, set debug=True in launch()\n",
            "* Running on public URL: https://d1b34010da35a7e76e.gradio.live\n",
            "\n",
            "This share link expires in 1 week. For free permanent hosting and GPU upgrades, run `gradio deploy` from the terminal in the working directory to deploy to Hugging Face Spaces (https://huggingface.co/spaces)\n"
          ]
        },
        {
          "output_type": "display_data",
          "data": {
            "text/plain": [
              "<IPython.core.display.HTML object>"
            ],
            "text/html": [
              "<div><iframe src=\"https://d1b34010da35a7e76e.gradio.live\" width=\"100%\" height=\"500\" allow=\"autoplay; camera; microphone; clipboard-read; clipboard-write;\" frameborder=\"0\" allowfullscreen></iframe></div>"
            ]
          },
          "metadata": {}
        },
        {
          "output_type": "execute_result",
          "data": {
            "text/plain": []
          },
          "metadata": {},
          "execution_count": 4
        }
      ]
    },
    {
      "cell_type": "code",
      "source": [],
      "metadata": {
        "id": "zDowIFlYA20_"
      },
      "execution_count": null,
      "outputs": []
    }
  ]
}